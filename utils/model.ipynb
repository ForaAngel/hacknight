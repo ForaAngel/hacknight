{
 "cells": [
  {
   "cell_type": "code",
   "execution_count": null,
   "metadata": {},
   "outputs": [
    {
     "name": "stdout",
     "output_type": "stream",
     "text": [
      "^C\n"
     ]
    }
   ],
   "source": [
    "!pip3 install ipywidgets xgboost scikit-learn pandas numpy --user"
   ]
  },
  {
   "cell_type": "code",
   "execution_count": 6,
   "metadata": {},
   "outputs": [
    {
     "ename": "ModuleNotFoundError",
     "evalue": "No module named 'pandas'",
     "output_type": "error",
     "traceback": [
      "\u001b[1;31m---------------------------------------------------------------------------\u001b[0m",
      "\u001b[1;31mModuleNotFoundError\u001b[0m                       Traceback (most recent call last)",
      "Cell \u001b[1;32mIn[6], line 1\u001b[0m\n\u001b[1;32m----> 1\u001b[0m \u001b[38;5;28;01mimport\u001b[39;00m \u001b[38;5;21;01mpandas\u001b[39;00m \u001b[38;5;28;01mas\u001b[39;00m \u001b[38;5;21;01mpd\u001b[39;00m\n\u001b[0;32m      2\u001b[0m \u001b[38;5;28;01mimport\u001b[39;00m \u001b[38;5;21;01mnumpy\u001b[39;00m \u001b[38;5;28;01mas\u001b[39;00m \u001b[38;5;21;01mnp\u001b[39;00m\n\u001b[0;32m      3\u001b[0m \u001b[38;5;28;01mfrom\u001b[39;00m \u001b[38;5;21;01msklearn\u001b[39;00m\u001b[38;5;21;01m.\u001b[39;00m\u001b[38;5;21;01mmodel_selection\u001b[39;00m \u001b[38;5;28;01mimport\u001b[39;00m train_test_split, cross_val_score, GridSearchCV\n",
      "\u001b[1;31mModuleNotFoundError\u001b[0m: No module named 'pandas'"
     ]
    }
   ],
   "source": [
    "import pandas as pd\n",
    "import numpy as np\n",
    "from sklearn.model_selection import train_test_split, cross_val_score, GridSearchCV\n",
    "from sklearn.preprocessing import StandardScaler, LabelEncoder\n",
    "from sklearn.ensemble import RandomForestRegressor, GradientBoostingRegressor\n",
    "from sklearn.metrics import mean_squared_error, r2_score\n",
    "import xgboost as xgb\n",
    "import pickle\n",
    "import warnings\n",
    "warnings.filterwarnings('ignore')"
   ]
  },
  {
   "cell_type": "code",
   "execution_count": null,
   "metadata": {},
   "outputs": [],
   "source": [
    "# Leer datos\n",
    "df = pd.read_csv(\"database.csv\")\n",
    "\n",
    "# Extraer habitaciones y baños del título\n",
    "df['n_beds'] = df['title'].str.extract(r'(\\d+)\\s*beds').fillna(0).astype(int)\n",
    "df['n_baths'] = df['title'].str.extract(r'(\\d+)\\s*baths?').fillna(0).astype(int)\n",
    "\n",
    "# Codificar ubicación\n",
    "le = LabelEncoder()\n",
    "df['location_encoded'] = le.fit_transform(df['location'])\n",
    "\n",
    "# Preparar features\n",
    "features = ['location_encoded', 'mts', 'n_beds', 'n_baths']\n",
    "X = df[features]\n",
    "y = df['price']\n",
    "\n",
    "print(\"Datos cargados exitosamente!\")"
   ]
  },
  {
   "cell_type": "code",
   "execution_count": null,
   "metadata": {},
   "outputs": [],
   "source": [
    "# Dividir datos\n",
    "X_train, X_test, y_train, y_test = train_test_split(X, y, test_size=0.2, random_state=42)\n",
    "\n",
    "# Escalar características\n",
    "scaler = StandardScaler()\n",
    "X_train_scaled = scaler.fit_transform(X_train)\n",
    "X_test_scaled = scaler.transform(X_test)\n",
    "\n",
    "# Crear y entrenar Random Forest\n",
    "rf_model = RandomForestRegressor(\n",
    "    n_estimators=200,\n",
    "    max_depth=20,\n",
    "    min_samples_split=5,\n",
    "    min_samples_leaf=2,\n",
    "    random_state=42\n",
    ")\n",
    "rf_model.fit(X_train_scaled, y_train)\n",
    "\n",
    "# Evaluar modelo\n",
    "train_score = rf_model.score(X_train_scaled, y_train)\n",
    "test_score = rf_model.score(X_test_scaled, y_test)\n",
    "\n",
    "print(f'Puntuación en entrenamiento: {train_score:.4f}')\n",
    "print(f'Puntuación en prueba: {test_score:.4f}')\n",
    "\n",
    "# Guardar modelo\n",
    "with open('modelo_casas.pkl', 'wb') as file:\n",
    "    pickle.dump({\n",
    "        'modelo': rf_model,\n",
    "        'scaler': scaler,\n",
    "        'label_encoder': le\n",
    "    }, file)"
   ]
  },
  {
   "cell_type": "code",
   "execution_count": null,
   "metadata": {},
   "outputs": [],
   "source": [
    "def predecir_precio():\n",
    "    try:\n",
    "        # Solicitar datos al usuario\n",
    "        print(\"\\nIngresa los datos de la casa:\")\n",
    "        \n",
    "        # Ubicación\n",
    "        print(\"\\nUbicaciones disponibles:\")\n",
    "        print(\"1: Norte\")\n",
    "        print(\"2: Sur\")\n",
    "        print(\"3: Centro\")\n",
    "        loc_num = int(input(\"Selecciona el número de la ubicación (1-3): \"))\n",
    "        location = ['Norte', 'Sur', 'Centro'][loc_num-1]\n",
    "        \n",
    "        # Otros datos\n",
    "        metros = float(input(\"Metros cuadrados: \"))\n",
    "        habitaciones = int(input(\"Número de habitaciones: \"))\n",
    "        banos = int(input(\"Número de baños: \"))\n",
    "        \n",
    "        # Cargar modelo\n",
    "        with open('modelo_casas.pkl', 'rb') as file:\n",
    "            data = pickle.load(file)\n",
    "        \n",
    "        modelo = data['modelo']\n",
    "        scaler = data['scaler']\n",
    "        le = data['label_encoder']\n",
    "        \n",
    "        # Preparar datos para predicción\n",
    "        location_encoded = le.transform([location])[0]\n",
    "        X_pred = np.array([[location_encoded, metros, habitaciones, banos]])\n",
    "        X_pred_scaled = scaler.transform(X_pred)\n",
    "        \n",
    "        # Realizar predicción\n",
    "        prediccion = modelo.predict(X_pred_scaled)[0]\n",
    "        \n",
    "        # Mostrar resultados\n",
    "        print(\"\\nResultados de la predicción:\")\n",
    "        print(f\"Ubicación: {location}\")\n",
    "        print(f\"Metros cuadrados: {metros}\")\n",
    "        print(f\"Habitaciones: {habitaciones}\")\n",
    "        print(f\"Baños: {banos}\")\n",
    "        print(f\"\\nPrecio estimado: ${prediccion:,.2f}\")\n",
    "        \n",
    "        # Mostrar rango de confianza (±10%)\n",
    "        print(f\"Rango de precios esperado:\")\n",
    "        print(f\"Mínimo: ${prediccion * 0.9:,.2f}\")\n",
    "        print(f\"Máximo: ${prediccion * 1.1:,.2f}\")\n",
    "        \n",
    "        return prediccion\n",
    "    \n",
    "    except Exception as e:\n",
    "        print(f\"Error en la predicción: {str(e)}\")\n",
    "        return None"
   ]
  },
  {
   "cell_type": "code",
   "execution_count": null,
   "metadata": {},
   "outputs": [],
   "source": [
    "# Ejecutar predicción\n",
    "predecir_precio()"
   ]
  }
 ],
 "metadata": {
  "kernelspec": {
   "display_name": "Python 3",
   "language": "python",
   "name": "python3"
  },
  "language_info": {
   "codemirror_mode": {
    "name": "ipython",
    "version": 3
   },
   "file_extension": ".py",
   "mimetype": "text/x-python",
   "name": "python",
   "nbconvert_exporter": "python",
   "pygments_lexer": "ipython3",
   "version": "3.12.3"
  }
 },
 "nbformat": 4,
 "nbformat_minor": 2
}
